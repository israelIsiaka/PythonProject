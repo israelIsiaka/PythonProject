{
 "cells": [
  {
   "cell_type": "code",
   "id": "initial_id",
   "metadata": {
    "collapsed": true,
    "ExecuteTime": {
     "end_time": "2025-08-02T06:06:32.374611Z",
     "start_time": "2025-08-02T06:06:32.324832Z"
    }
   },
   "source": [
    "import numpy as np\n",
    "from numpy.matlib import zeros\n",
    "from soupsieve.css_match import DAYS_IN_WEEK"
   ],
   "outputs": [],
   "execution_count": 13
  },
  {
   "metadata": {
    "ExecuteTime": {
     "end_time": "2025-07-18T21:54:04.450982Z",
     "start_time": "2025-07-18T21:54:04.428136Z"
    }
   },
   "cell_type": "code",
   "source": [
    "days =  [1, 2, 3, 4, 5, 6, 7, 8, 9, 10, 11, 12, 13, 14, 15]\n",
    "\n",
    "the = np.array(days)\n",
    "print(the)"
   ],
   "id": "a82f8312b3c7e78c",
   "outputs": [
    {
     "name": "stdout",
     "output_type": "stream",
     "text": [
      "[ 1  2  3  4  5  6  7  8  9 10 11 12 13 14 15]\n"
     ]
    }
   ],
   "execution_count": 100
  },
  {
   "metadata": {
    "ExecuteTime": {
     "end_time": "2025-07-18T21:54:04.584118Z",
     "start_time": "2025-07-18T21:54:04.521226Z"
    }
   },
   "cell_type": "code",
   "source": [
    "#The zeros_like() make enable you to be able to create arrays of zeros like a varriable you alredy have no need of to worry about the lenght expetialy when you are working with large data set\n",
    "\n",
    "zeros_array = np.zeros_like(the)\n",
    "print(zeros_array)"
   ],
   "id": "338eb64a57f9a2b0",
   "outputs": [
    {
     "name": "stdout",
     "output_type": "stream",
     "text": [
      "[0 0 0 0 0 0 0 0 0 0 0 0 0 0 0]\n"
     ]
    }
   ],
   "execution_count": 101
  },
  {
   "metadata": {
    "ExecuteTime": {
     "end_time": "2025-07-18T21:54:04.652943Z",
     "start_time": "2025-07-18T21:54:04.640117Z"
    }
   },
   "cell_type": "code",
   "source": [
    "#Array of onces\n",
    "once_array = np.ones_like(the)\n",
    "print(once_array)\n",
    "\n",
    "once_array = np.ones(5)\n",
    "print(once_array)\n"
   ],
   "id": "3cc49c4038a6674",
   "outputs": [
    {
     "name": "stdout",
     "output_type": "stream",
     "text": [
      "[1 1 1 1 1 1 1 1 1 1 1 1 1 1 1]\n",
      "[1. 1. 1. 1. 1.]\n"
     ]
    }
   ],
   "execution_count": 102
  },
  {
   "metadata": {
    "ExecuteTime": {
     "end_time": "2025-07-18T21:54:04.735740Z",
     "start_time": "2025-07-18T21:54:04.727742Z"
    }
   },
   "cell_type": "code",
   "source": [
    "range_array = np.arange(0, len(the))\n",
    "print(range_array)"
   ],
   "id": "1671cab8593a8d5f",
   "outputs": [
    {
     "name": "stdout",
     "output_type": "stream",
     "text": [
      "[ 0  1  2  3  4  5  6  7  8  9 10 11 12 13 14]\n"
     ]
    }
   ],
   "execution_count": 103
  },
  {
   "metadata": {
    "ExecuteTime": {
     "end_time": "2025-07-18T21:54:04.852635Z",
     "start_time": "2025-07-18T21:54:04.816585Z"
    }
   },
   "cell_type": "code",
   "source": [
    "random_array = np.random.randint(2, len(range_array), len(range_array))\n",
    "print(random_array)"
   ],
   "id": "780aeda86fa2086d",
   "outputs": [
    {
     "name": "stdout",
     "output_type": "stream",
     "text": [
      "[ 4 11 12 11  2  3  2  2 13  5  9  4 13  4  5]\n"
     ]
    }
   ],
   "execution_count": 104
  },
  {
   "metadata": {
    "ExecuteTime": {
     "end_time": "2025-07-18T21:54:04.890620Z",
     "start_time": "2025-07-18T21:54:04.884275Z"
    }
   },
   "cell_type": "code",
   "source": [
    "# 2 dimemesionnal array\n",
    "mutple_array = np.array ([[1,2,3,4],\n",
    "                [5,6,7,8],])\n",
    "print(mutple_array)"
   ],
   "id": "e44241fde6dfe484",
   "outputs": [
    {
     "name": "stdout",
     "output_type": "stream",
     "text": [
      "[[1 2 3 4]\n",
      " [5 6 7 8]]\n"
     ]
    }
   ],
   "execution_count": 105
  },
  {
   "metadata": {
    "ExecuteTime": {
     "end_time": "2025-07-18T21:54:04.956329Z",
     "start_time": "2025-07-18T21:54:04.949261Z"
    }
   },
   "cell_type": "code",
   "source": [
    "eye  = np.eye(7)\n",
    "print(eye)"
   ],
   "id": "4014ad2395385bee",
   "outputs": [
    {
     "name": "stdout",
     "output_type": "stream",
     "text": [
      "[[1. 0. 0. 0. 0. 0. 0.]\n",
      " [0. 1. 0. 0. 0. 0. 0.]\n",
      " [0. 0. 1. 0. 0. 0. 0.]\n",
      " [0. 0. 0. 1. 0. 0. 0.]\n",
      " [0. 0. 0. 0. 1. 0. 0.]\n",
      " [0. 0. 0. 0. 0. 1. 0.]\n",
      " [0. 0. 0. 0. 0. 0. 1.]]\n"
     ]
    }
   ],
   "execution_count": 106
  },
  {
   "metadata": {
    "ExecuteTime": {
     "end_time": "2025-07-18T21:54:05.017082Z",
     "start_time": "2025-07-18T21:54:05.002244Z"
    }
   },
   "cell_type": "code",
   "source": [
    "zeros_array = np.random.randint(0, 9, 3)\n",
    "print(zeros_array)\n"
   ],
   "id": "53d6b038ce25b16e",
   "outputs": [
    {
     "name": "stdout",
     "output_type": "stream",
     "text": [
      "[7 6 1]\n"
     ]
    }
   ],
   "execution_count": 107
  },
  {
   "metadata": {
    "ExecuteTime": {
     "end_time": "2025-07-18T21:54:05.074167Z",
     "start_time": "2025-07-18T21:54:05.063318Z"
    }
   },
   "cell_type": "code",
   "source": [
    "anothrlike = np.zeros_like(eye)\n",
    "print(anothrlike)"
   ],
   "id": "b7442e5592e7e2a6",
   "outputs": [
    {
     "name": "stdout",
     "output_type": "stream",
     "text": [
      "[[0. 0. 0. 0. 0. 0. 0.]\n",
      " [0. 0. 0. 0. 0. 0. 0.]\n",
      " [0. 0. 0. 0. 0. 0. 0.]\n",
      " [0. 0. 0. 0. 0. 0. 0.]\n",
      " [0. 0. 0. 0. 0. 0. 0.]\n",
      " [0. 0. 0. 0. 0. 0. 0.]\n",
      " [0. 0. 0. 0. 0. 0. 0.]]\n"
     ]
    }
   ],
   "execution_count": 108
  },
  {
   "metadata": {
    "ExecuteTime": {
     "end_time": "2025-07-18T21:54:05.133621Z",
     "start_time": "2025-07-18T21:54:05.126727Z"
    }
   },
   "cell_type": "code",
   "source": [
    "arrange = np.arange(1, 90 ,1)\n",
    "print(arrange)"
   ],
   "id": "7497bb8449630307",
   "outputs": [
    {
     "name": "stdout",
     "output_type": "stream",
     "text": [
      "[ 1  2  3  4  5  6  7  8  9 10 11 12 13 14 15 16 17 18 19 20 21 22 23 24\n",
      " 25 26 27 28 29 30 31 32 33 34 35 36 37 38 39 40 41 42 43 44 45 46 47 48\n",
      " 49 50 51 52 53 54 55 56 57 58 59 60 61 62 63 64 65 66 67 68 69 70 71 72\n",
      " 73 74 75 76 77 78 79 80 81 82 83 84 85 86 87 88 89]\n"
     ]
    }
   ],
   "execution_count": 109
  },
  {
   "metadata": {
    "ExecuteTime": {
     "end_time": "2025-07-18T21:54:05.202010Z",
     "start_time": "2025-07-18T21:54:05.192428Z"
    }
   },
   "cell_type": "code",
   "source": [
    "once = np.ones([3,3])\n",
    "once [1 , 1] = 0\n",
    "print(once)"
   ],
   "id": "4f1e103eae32e837",
   "outputs": [
    {
     "name": "stdout",
     "output_type": "stream",
     "text": [
      "[[1. 1. 1.]\n",
      " [1. 0. 1.]\n",
      " [1. 1. 1.]]\n"
     ]
    }
   ],
   "execution_count": 110
  },
  {
   "metadata": {
    "ExecuteTime": {
     "end_time": "2025-07-18T21:54:05.329972Z",
     "start_time": "2025-07-18T21:54:05.311140Z"
    }
   },
   "cell_type": "code",
   "source": [
    "we = np.ones([7])\n",
    "print(we)"
   ],
   "id": "1d9b92b97c621af0",
   "outputs": [
    {
     "name": "stdout",
     "output_type": "stream",
     "text": [
      "[1. 1. 1. 1. 1. 1. 1.]\n"
     ]
    }
   ],
   "execution_count": 111
  },
  {
   "metadata": {
    "ExecuteTime": {
     "end_time": "2025-07-18T21:54:05.523979Z",
     "start_time": "2025-07-18T21:54:05.486686Z"
    }
   },
   "cell_type": "code",
   "source": [
    "a = np.array([[1,2,3,4], [5,6,7,8]])\n",
    "b = np.array([[9,2,8,4], [3,6,8,2]])\n",
    "print(a*a)"
   ],
   "id": "ba511411c044bc24",
   "outputs": [
    {
     "name": "stdout",
     "output_type": "stream",
     "text": [
      "[[ 1  4  9 16]\n",
      " [25 36 49 64]]\n"
     ]
    }
   ],
   "execution_count": 112
  },
  {
   "metadata": {
    "ExecuteTime": {
     "end_time": "2025-07-18T22:06:24.624787Z",
     "start_time": "2025-07-18T22:06:24.586882Z"
    }
   },
   "cell_type": "code",
   "source": [
    "print(np.dot(a,b.T))\n",
    "result = np.subtract(a,b)\n",
    "print(result)"
   ],
   "id": "93dabfbc6ee35427",
   "outputs": [
    {
     "name": "stdout",
     "output_type": "stream",
     "text": [
      "[[ 53  47]\n",
      " [145 123]]\n",
      "[[-8  0 -5  0]\n",
      " [ 2  0 -1  6]]\n"
     ]
    }
   ],
   "execution_count": 119
  },
  {
   "metadata": {},
   "cell_type": "markdown",
   "source": "",
   "id": "2b94cfdc8798dab9"
  },
  {
   "metadata": {
    "ExecuteTime": {
     "end_time": "2025-07-30T19:50:09.566251Z",
     "start_time": "2025-07-30T19:50:09.553272Z"
    }
   },
   "cell_type": "code",
   "source": [
    "\n",
    "a = np.array([[1,2,3,4], [5,6,7,8]])\n",
    "b = np.array([[9,2,8,4], [3,6,8,2]])\n",
    "\n",
    "print(\"Dot product (a · b.T):\")\n",
    "print(np.dot(a, b.T))  # shape (2, 2)\n",
    "\n",
    "print(\"\\nElement-wise subtraction:\")\n",
    "result = np.subtract(a, b)\n",
    "print(result)\n"
   ],
   "id": "f5d18f27fe10a1d6",
   "outputs": [
    {
     "name": "stdout",
     "output_type": "stream",
     "text": [
      "Dot product (a · b.T):\n",
      "[[ 53  47]\n",
      " [145 123]]\n",
      "\n",
      "Element-wise subtraction:\n",
      "[[-8  0 -5  0]\n",
      " [ 2  0 -1  6]]\n"
     ]
    }
   ],
   "execution_count": 7
  },
  {
   "metadata": {
    "ExecuteTime": {
     "end_time": "2025-08-02T01:56:14.992907Z",
     "start_time": "2025-08-02T01:56:14.984225Z"
    }
   },
   "cell_type": "code",
   "source": [
    "ok = np.array([0, 2, 3], dtype=np.bool_)\n",
    "print(ok)"
   ],
   "id": "e1f3ce6aa9b6a691",
   "outputs": [
    {
     "name": "stdout",
     "output_type": "stream",
     "text": [
      "[False  True  True]\n"
     ]
    }
   ],
   "execution_count": 6
  },
  {
   "metadata": {},
   "cell_type": "code",
   "outputs": [],
   "execution_count": null,
   "source": "",
   "id": "d6e18a17a155a702"
  },
  {
   "metadata": {
    "ExecuteTime": {
     "end_time": "2025-08-02T01:58:14.633791Z",
     "start_time": "2025-08-02T01:58:14.582969Z"
    }
   },
   "cell_type": "code",
   "source": [
    "a = np.array([[1, 2], [3, 4]])\n",
    "print(a[0, 1])"
   ],
   "id": "927d872e83c477de",
   "outputs": [
    {
     "name": "stdout",
     "output_type": "stream",
     "text": [
      "2\n"
     ]
    }
   ],
   "execution_count": 7
  },
  {
   "metadata": {
    "ExecuteTime": {
     "end_time": "2025-08-02T02:06:16.345196Z",
     "start_time": "2025-08-02T02:06:16.330947Z"
    }
   },
   "cell_type": "code",
   "source": [
    "a = np.array([10, 20, 30])\n",
    "\n",
    "b = np.array([[1], [2], [3]])\n",
    "\n",
    "print(a + b)"
   ],
   "id": "1436b4d36ea9531f",
   "outputs": [
    {
     "name": "stdout",
     "output_type": "stream",
     "text": [
      "[[11 21 31]\n",
      " [12 22 32]\n",
      " [13 23 33]]\n"
     ]
    }
   ],
   "execution_count": 8
  },
  {
   "metadata": {
    "ExecuteTime": {
     "end_time": "2025-08-02T06:07:06.777862Z",
     "start_time": "2025-08-02T06:07:06.757438Z"
    }
   },
   "cell_type": "code",
   "source": [
    "x = np.array([10, 20, 30])\n",
    "\n",
    "y = x * 2\n",
    "print(y)"
   ],
   "id": "d264317ea13cf842",
   "outputs": [
    {
     "name": "stdout",
     "output_type": "stream",
     "text": [
      "[20 40 60]\n"
     ]
    }
   ],
   "execution_count": 14
  },
  {
   "metadata": {
    "ExecuteTime": {
     "end_time": "2025-08-02T06:11:22.512107Z",
     "start_time": "2025-08-02T06:11:22.499623Z"
    }
   },
   "cell_type": "code",
   "source": [
    "A = np.random.rand(5, 3, 4)\n",
    "\n",
    "B = np.random.rand(5, 4, 2)\n",
    "print(np.dot(A, B,).shape)"
   ],
   "id": "c9ff924f7336faa2",
   "outputs": [
    {
     "name": "stdout",
     "output_type": "stream",
     "text": [
      "(5, 3, 5, 2)\n"
     ]
    }
   ],
   "execution_count": 17
  },
  {
   "metadata": {
    "ExecuteTime": {
     "end_time": "2025-08-02T06:12:44.340941Z",
     "start_time": "2025-08-02T06:12:44.314470Z"
    }
   },
   "cell_type": "code",
   "source": [
    "A = np.array([[1, 2, 3]])\n",
    "\n",
    "B = np.array([[4], [5], [6]])\n",
    "\n",
    "print(A @ B)"
   ],
   "id": "1e82313fb3d338ca",
   "outputs": [
    {
     "name": "stdout",
     "output_type": "stream",
     "text": [
      "[[32]]\n"
     ]
    }
   ],
   "execution_count": 18
  },
  {
   "metadata": {
    "ExecuteTime": {
     "end_time": "2025-08-02T06:16:34.487986Z",
     "start_time": "2025-08-02T06:16:34.417164Z"
    }
   },
   "cell_type": "code",
   "source": [
    "import numpy as np\n",
    "from numpy.lib.stride_tricks import sliding_window_view\n",
    "\n",
    "x = np.arange(6)\n",
    "windowed = sliding_window_view(a, window_shape=3)\n",
    "\n",
    "v = sliding_window_view(x, 3)\n",
    "print(v)"
   ],
   "id": "3aff8917d400c8e5",
   "outputs": [
    {
     "name": "stdout",
     "output_type": "stream",
     "text": [
      "[[0 1 2]\n",
      " [1 2 3]\n",
      " [2 3 4]\n",
      " [3 4 5]]\n"
     ]
    }
   ],
   "execution_count": 20
  },
  {
   "metadata": {
    "ExecuteTime": {
     "end_time": "2025-08-02T06:21:07.483533Z",
     "start_time": "2025-08-02T06:21:07.463003Z"
    }
   },
   "cell_type": "code",
   "source": [
    "A = np.ones((2, 3))\n",
    "print(A)\n",
    "B = np.ones((3,))\n",
    "print(B)\n",
    "\n",
    "C = A @ B\n",
    "print(C.shape)"
   ],
   "id": "99b50c6386dc7bf3",
   "outputs": [
    {
     "name": "stdout",
     "output_type": "stream",
     "text": [
      "[[1. 1. 1.]\n",
      " [1. 1. 1.]]\n",
      "[1. 1. 1.]\n",
      "(2,)\n"
     ]
    }
   ],
   "execution_count": 23
  },
  {
   "metadata": {
    "ExecuteTime": {
     "end_time": "2025-08-02T09:15:09.951311Z",
     "start_time": "2025-08-02T09:15:09.931041Z"
    }
   },
   "cell_type": "code",
   "source": [
    "A = np.array([[1, 2],\n",
    "\n",
    "               [3, 4]])\n",
    "\n",
    "B = np.array([[5, 6],\n",
    "\n",
    "               [7, 8]])\n",
    "\n",
    "print(A @ B)\n",
    "print(np.dot(A, B))"
   ],
   "id": "21f60ae9b33d3b30",
   "outputs": [
    {
     "name": "stdout",
     "output_type": "stream",
     "text": [
      "[[19 22]\n",
      " [43 50]]\n",
      "[[19 22]\n",
      " [43 50]]\n"
     ]
    }
   ],
   "execution_count": 31
  },
  {
   "metadata": {
    "ExecuteTime": {
     "end_time": "2025-08-02T06:33:37.230674Z",
     "start_time": "2025-08-02T06:33:37.129758Z"
    }
   },
   "cell_type": "code",
   "source": [
    "a=np.linspace(10, 20, 6).astype(np.float32)\n",
    "print(a)"
   ],
   "id": "ae0dd9653cb54e28",
   "outputs": [
    {
     "name": "stdout",
     "output_type": "stream",
     "text": [
      "[10. 12. 14. 16. 18. 20.]\n"
     ]
    }
   ],
   "execution_count": 28
  },
  {
   "metadata": {
    "ExecuteTime": {
     "end_time": "2025-08-02T06:36:47.842501Z",
     "start_time": "2025-08-02T06:36:47.799569Z"
    }
   },
   "cell_type": "code",
   "source": [
    "a= np.random.randint(0, 10, 2)\n",
    "print(a)"
   ],
   "id": "f7667963b7d82b47",
   "outputs": [
    {
     "name": "stdout",
     "output_type": "stream",
     "text": [
      "[1 9]\n"
     ]
    }
   ],
   "execution_count": 29
  },
  {
   "metadata": {
    "ExecuteTime": {
     "end_time": "2025-08-02T12:30:15.341133Z",
     "start_time": "2025-08-02T12:30:15.328325Z"
    }
   },
   "cell_type": "code",
   "source": [
    "nummbers = np.arange(25).reshape(5, 5)\n",
    "print(nummbers)"
   ],
   "id": "c02a4e90a50f78b7",
   "outputs": [
    {
     "name": "stdout",
     "output_type": "stream",
     "text": [
      "[[ 0  1  2  3  4]\n",
      " [ 5  6  7  8  9]\n",
      " [10 11 12 13 14]\n",
      " [15 16 17 18 19]\n",
      " [20 21 22 23 24]]\n"
     ]
    }
   ],
   "execution_count": 37
  },
  {
   "metadata": {
    "ExecuteTime": {
     "end_time": "2025-08-02T12:34:43.576685Z",
     "start_time": "2025-08-02T12:34:43.551424Z"
    }
   },
   "cell_type": "code",
   "source": [
    "boos = (nummbers >  5) & (nummbers < 22)\n",
    "print(\"\\n\", boos)"
   ],
   "id": "578fbdb470952864",
   "outputs": [
    {
     "name": "stdout",
     "output_type": "stream",
     "text": [
      "\n",
      " [[False False False False False]\n",
      " [False  True  True  True  True]\n",
      " [ True  True  True  True  True]\n",
      " [ True  True  True  True  True]\n",
      " [ True  True False False False]]\n"
     ]
    }
   ],
   "execution_count": 42
  },
  {
   "metadata": {},
   "cell_type": "markdown",
   "source": "",
   "id": "168aaee28ab02e02"
  },
  {
   "metadata": {},
   "cell_type": "markdown",
   "source": "Indexing Along Mutipl DImensions",
   "id": "f39c444d88f504fa"
  },
  {
   "metadata": {
    "ExecuteTime": {
     "end_time": "2025-08-02T12:41:40.288223Z",
     "start_time": "2025-08-02T12:41:40.208845Z"
    }
   },
   "cell_type": "code",
   "source": [
    "arr_2d = np.array([[1, 2, 3], [4, 5, 6],])\n",
    "\n",
    "print(arr_2d)\n",
    "print(arr_2d.shape)\n",
    "print(\"\\n\", arr_2d[0, 1])\n",
    "print(\"\\n\", arr_2d[0, 0])\n",
    "print(\"\\n\", arr_2d[0, -1])\n",
    "print(\"\\n\", arr_2d[-1, 0])\n",
    "print(\"\\n\", arr_2d[:, 1])"
   ],
   "id": "8e763b44fc823520",
   "outputs": [
    {
     "name": "stdout",
     "output_type": "stream",
     "text": [
      "[[1 2 3]\n",
      " [4 5 6]]\n",
      "(2, 3)\n",
      "\n",
      " 2\n",
      "\n",
      " 1\n",
      "\n",
      " 3\n",
      "\n",
      " 4\n",
      "\n",
      " [2 5]\n"
     ]
    }
   ],
   "execution_count": 43
  },
  {
   "metadata": {
    "ExecuteTime": {
     "end_time": "2025-08-02T12:56:12.975198Z",
     "start_time": "2025-08-02T12:56:12.908407Z"
    }
   },
   "cell_type": "code",
   "source": [
    "arr = np.arange(0, 100, 10 )\n",
    "\n",
    "print(\"\\n\", arr)"
   ],
   "id": "d4bb9e8336886b9e",
   "outputs": [
    {
     "name": "stdout",
     "output_type": "stream",
     "text": [
      "\n",
      " [ 0 10 20 30 40 50 60 70 80 90]\n"
     ]
    }
   ],
   "execution_count": 48
  },
  {
   "metadata": {
    "ExecuteTime": {
     "end_time": "2025-08-02T12:56:35.484182Z",
     "start_time": "2025-08-02T12:56:35.465247Z"
    }
   },
   "cell_type": "code",
   "source": [
    "arr__b = arr[1: 6]\n",
    "print(arr__b)"
   ],
   "id": "2d7db69768875210",
   "outputs": [
    {
     "name": "stdout",
     "output_type": "stream",
     "text": [
      "[10 20 30 40 50]\n"
     ]
    }
   ],
   "execution_count": 49
  },
  {
   "metadata": {
    "ExecuteTime": {
     "end_time": "2025-08-02T12:58:17.375974Z",
     "start_time": "2025-08-02T12:58:17.362723Z"
    }
   },
   "cell_type": "code",
   "source": [
    "arr_c = arr[3:]\n",
    "print(arr_c)"
   ],
   "id": "9516525c5a4df700",
   "outputs": [
    {
     "name": "stdout",
     "output_type": "stream",
     "text": [
      "[30 40 50 60 70 80 90]\n"
     ]
    }
   ],
   "execution_count": 50
  },
  {
   "metadata": {
    "ExecuteTime": {
     "end_time": "2025-08-02T12:58:51.014741Z",
     "start_time": "2025-08-02T12:58:50.979404Z"
    }
   },
   "cell_type": "code",
   "source": [
    "arr_c = arr[:3]\n",
    "print(arr_c)"
   ],
   "id": "b26fd6ffc119b70",
   "outputs": [
    {
     "name": "stdout",
     "output_type": "stream",
     "text": [
      "[ 0 10 20]\n"
     ]
    }
   ],
   "execution_count": 51
  },
  {
   "metadata": {},
   "cell_type": "markdown",
   "source": "Slicing 3d Arrays",
   "id": "be0bff10fec37726"
  },
  {
   "metadata": {
    "ExecuteTime": {
     "end_time": "2025-08-02T13:22:09.116170Z",
     "start_time": "2025-08-02T13:22:06.603238Z"
    }
   },
   "cell_type": "code",
   "source": "import pandas as pd",
   "id": "c3f255eb5e158155",
   "outputs": [],
   "execution_count": 53
  },
  {
   "metadata": {
    "ExecuteTime": {
     "end_time": "2025-08-02T13:23:03.678845Z",
     "start_time": "2025-08-02T13:23:03.658987Z"
    }
   },
   "cell_type": "code",
   "source": [
    "series_1 = pd.Series([1, 2, 3])\n",
    "print(series_1)"
   ],
   "id": "bdd717257c7ea1b2",
   "outputs": [
    {
     "name": "stdout",
     "output_type": "stream",
     "text": [
      "0    1\n",
      "1    2\n",
      "2    3\n",
      "dtype: int64\n"
     ]
    }
   ],
   "execution_count": 55
  },
  {
   "metadata": {
    "ExecuteTime": {
     "end_time": "2025-08-02T20:02:50.865796Z",
     "start_time": "2025-08-02T20:02:50.689466Z"
    }
   },
   "cell_type": "code",
   "source": "pd.Series(5, index=[1, 2, 3])",
   "id": "d0d1f6c5fa4f7fcf",
   "outputs": [
    {
     "data": {
      "text/plain": [
       "1    5\n",
       "2    5\n",
       "3    5\n",
       "dtype: int64"
      ]
     },
     "execution_count": 57,
     "metadata": {},
     "output_type": "execute_result"
    }
   ],
   "execution_count": 57
  },
  {
   "metadata": {
    "ExecuteTime": {
     "end_time": "2025-08-02T20:21:59.919903Z",
     "start_time": "2025-08-02T20:21:59.877193Z"
    }
   },
   "cell_type": "code",
   "source": "pd.Series (9, index=[100, 200, 300, 400])",
   "id": "30ab7f480183e707",
   "outputs": [
    {
     "data": {
      "text/plain": [
       "100    9\n",
       "200    9\n",
       "300    9\n",
       "400    9\n",
       "dtype: int64"
      ]
     },
     "execution_count": 61,
     "metadata": {},
     "output_type": "execute_result"
    }
   ],
   "execution_count": 61
  },
  {
   "metadata": {
    "ExecuteTime": {
     "end_time": "2025-08-02T20:31:41.399249Z",
     "start_time": "2025-08-02T20:31:41.164013Z"
    }
   },
   "cell_type": "code",
   "source": [
    "population = {'Senegal': 423967, 'Cameroun': 695662, 'Mali': 141297,\n",
    "             'Sudan': 170312, 'Ghana': 149995}\n",
    "pd.DataFrame(population, columns=['population'])"
   ],
   "id": "9522047abc95a772",
   "outputs": [
    {
     "data": {
      "text/plain": [
       "Empty DataFrame\n",
       "Columns: [population]\n",
       "Index: []"
      ],
      "text/html": [
       "<div>\n",
       "<style scoped>\n",
       "    .dataframe tbody tr th:only-of-type {\n",
       "        vertical-align: middle;\n",
       "    }\n",
       "\n",
       "    .dataframe tbody tr th {\n",
       "        vertical-align: top;\n",
       "    }\n",
       "\n",
       "    .dataframe thead th {\n",
       "        text-align: right;\n",
       "    }\n",
       "</style>\n",
       "<table border=\"1\" class=\"dataframe\">\n",
       "  <thead>\n",
       "    <tr style=\"text-align: right;\">\n",
       "      <th></th>\n",
       "      <th>population</th>\n",
       "    </tr>\n",
       "  </thead>\n",
       "  <tbody>\n",
       "  </tbody>\n",
       "</table>\n",
       "</div>"
      ]
     },
     "execution_count": 64,
     "metadata": {},
     "output_type": "execute_result"
    }
   ],
   "execution_count": 64
  },
  {
   "metadata": {
    "ExecuteTime": {
     "end_time": "2025-08-02T20:38:30.843746Z",
     "start_time": "2025-08-02T20:38:30.545062Z"
    }
   },
   "cell_type": "code",
   "source": [
    "# Create a NumPy array with mixed string and numeric data\n",
    "data = np.array([['Name', 'Age', 'Height', 'Weight'],\n",
    "                 ['Lenin', 30, 188, 90],\n",
    "                 ['Phil', 42, 178, 76],\n",
    "                 ['Claire', 40, 165, 54],\n",
    "                 ['Alex', 18, 140, 46]\n",
    "                 ])\n",
    "\n",
    "# Define the file path\n",
    "file_path = '/sample_data/data.csv'\n",
    "\n",
    "# Save the array as a CSV file\n",
    "np.savetxt(file_path, data, delimiter=',', fmt='%s')"
   ],
   "id": "9c57f40b054f4648",
   "outputs": [
    {
     "ename": "FileNotFoundError",
     "evalue": "[Errno 2] No such file or directory: '/sample_data/data.csv'",
     "output_type": "error",
     "traceback": [
      "\u001B[31m---------------------------------------------------------------------------\u001B[39m",
      "\u001B[31mFileNotFoundError\u001B[39m                         Traceback (most recent call last)",
      "\u001B[36mCell\u001B[39m\u001B[36m \u001B[39m\u001B[32mIn[66]\u001B[39m\u001B[32m, line 13\u001B[39m\n\u001B[32m     10\u001B[39m file_path = \u001B[33m'\u001B[39m\u001B[33m/sample_data/data.csv\u001B[39m\u001B[33m'\u001B[39m\n\u001B[32m     12\u001B[39m \u001B[38;5;66;03m# Save the array as a CSV file\u001B[39;00m\n\u001B[32m---> \u001B[39m\u001B[32m13\u001B[39m \u001B[43mnp\u001B[49m\u001B[43m.\u001B[49m\u001B[43msavetxt\u001B[49m\u001B[43m(\u001B[49m\u001B[43mfile_path\u001B[49m\u001B[43m,\u001B[49m\u001B[43m \u001B[49m\u001B[43mdata\u001B[49m\u001B[43m,\u001B[49m\u001B[43m \u001B[49m\u001B[43mdelimiter\u001B[49m\u001B[43m=\u001B[49m\u001B[33;43m'\u001B[39;49m\u001B[33;43m,\u001B[39;49m\u001B[33;43m'\u001B[39;49m\u001B[43m,\u001B[49m\u001B[43m \u001B[49m\u001B[43mfmt\u001B[49m\u001B[43m=\u001B[49m\u001B[33;43m'\u001B[39;49m\u001B[38;5;132;43;01m%s\u001B[39;49;00m\u001B[33;43m'\u001B[39;49m\u001B[43m)\u001B[49m\n",
      "\u001B[36mFile \u001B[39m\u001B[32m~/PycharmProjects/PythonProject/.venv/lib/python3.13/site-packages/numpy/lib/_npyio_impl.py:1565\u001B[39m, in \u001B[36msavetxt\u001B[39m\u001B[34m(fname, X, fmt, delimiter, newline, header, footer, comments, encoding)\u001B[39m\n\u001B[32m   1562\u001B[39m     fname = os.fspath(fname)\n\u001B[32m   1563\u001B[39m \u001B[38;5;28;01mif\u001B[39;00m _is_string_like(fname):\n\u001B[32m   1564\u001B[39m     \u001B[38;5;66;03m# datasource doesn't support creating a new file ...\u001B[39;00m\n\u001B[32m-> \u001B[39m\u001B[32m1565\u001B[39m     \u001B[38;5;28;43mopen\u001B[39;49m\u001B[43m(\u001B[49m\u001B[43mfname\u001B[49m\u001B[43m,\u001B[49m\u001B[43m \u001B[49m\u001B[33;43m'\u001B[39;49m\u001B[33;43mwt\u001B[39;49m\u001B[33;43m'\u001B[39;49m\u001B[43m)\u001B[49m.close()\n\u001B[32m   1566\u001B[39m     fh = np.lib._datasource.open(fname, \u001B[33m'\u001B[39m\u001B[33mwt\u001B[39m\u001B[33m'\u001B[39m, encoding=encoding)\n\u001B[32m   1567\u001B[39m     own_fh = \u001B[38;5;28;01mTrue\u001B[39;00m\n",
      "\u001B[31mFileNotFoundError\u001B[39m: [Errno 2] No such file or directory: '/sample_data/data.csv'"
     ]
    }
   ],
   "execution_count": 66
  },
  {
   "metadata": {
    "ExecuteTime": {
     "end_time": "2025-08-02T20:44:27.503731Z",
     "start_time": "2025-08-02T20:44:27.320653Z"
    }
   },
   "cell_type": "code",
   "source": [
    "from pandas import *\n",
    "import pandas as pd\n",
    "\n",
    "df = pd.read_csv(\"/Users/israelisiaka/PycharmProjects/PythonProject/sample_date/california_housing_train.csv\")"
   ],
   "id": "7afcc0cffa069c8e",
   "outputs": [],
   "execution_count": 73
  },
  {
   "metadata": {
    "ExecuteTime": {
     "end_time": "2025-08-02T20:44:50.049854Z",
     "start_time": "2025-08-02T20:44:49.986693Z"
    }
   },
   "cell_type": "code",
   "source": "df.head()",
   "id": "381d4656cbbe6772",
   "outputs": [
    {
     "data": {
      "text/plain": [
       "   longitude  latitude  housing_median_age  total_rooms  total_bedrooms  \\\n",
       "0    -114.31     34.19                15.0       5612.0          1283.0   \n",
       "1    -114.47     34.40                19.0       7650.0          1901.0   \n",
       "2    -114.56     33.69                17.0        720.0           174.0   \n",
       "3    -114.57     33.64                14.0       1501.0           337.0   \n",
       "4    -114.57     33.57                20.0       1454.0           326.0   \n",
       "\n",
       "   population  households  median_income  median_house_value  \n",
       "0      1015.0       472.0         1.4936             66900.0  \n",
       "1      1129.0       463.0         1.8200             80100.0  \n",
       "2       333.0       117.0         1.6509             85700.0  \n",
       "3       515.0       226.0         3.1917             73400.0  \n",
       "4       624.0       262.0         1.9250             65500.0  "
      ],
      "text/html": [
       "<div>\n",
       "<style scoped>\n",
       "    .dataframe tbody tr th:only-of-type {\n",
       "        vertical-align: middle;\n",
       "    }\n",
       "\n",
       "    .dataframe tbody tr th {\n",
       "        vertical-align: top;\n",
       "    }\n",
       "\n",
       "    .dataframe thead th {\n",
       "        text-align: right;\n",
       "    }\n",
       "</style>\n",
       "<table border=\"1\" class=\"dataframe\">\n",
       "  <thead>\n",
       "    <tr style=\"text-align: right;\">\n",
       "      <th></th>\n",
       "      <th>longitude</th>\n",
       "      <th>latitude</th>\n",
       "      <th>housing_median_age</th>\n",
       "      <th>total_rooms</th>\n",
       "      <th>total_bedrooms</th>\n",
       "      <th>population</th>\n",
       "      <th>households</th>\n",
       "      <th>median_income</th>\n",
       "      <th>median_house_value</th>\n",
       "    </tr>\n",
       "  </thead>\n",
       "  <tbody>\n",
       "    <tr>\n",
       "      <th>0</th>\n",
       "      <td>-114.31</td>\n",
       "      <td>34.19</td>\n",
       "      <td>15.0</td>\n",
       "      <td>5612.0</td>\n",
       "      <td>1283.0</td>\n",
       "      <td>1015.0</td>\n",
       "      <td>472.0</td>\n",
       "      <td>1.4936</td>\n",
       "      <td>66900.0</td>\n",
       "    </tr>\n",
       "    <tr>\n",
       "      <th>1</th>\n",
       "      <td>-114.47</td>\n",
       "      <td>34.40</td>\n",
       "      <td>19.0</td>\n",
       "      <td>7650.0</td>\n",
       "      <td>1901.0</td>\n",
       "      <td>1129.0</td>\n",
       "      <td>463.0</td>\n",
       "      <td>1.8200</td>\n",
       "      <td>80100.0</td>\n",
       "    </tr>\n",
       "    <tr>\n",
       "      <th>2</th>\n",
       "      <td>-114.56</td>\n",
       "      <td>33.69</td>\n",
       "      <td>17.0</td>\n",
       "      <td>720.0</td>\n",
       "      <td>174.0</td>\n",
       "      <td>333.0</td>\n",
       "      <td>117.0</td>\n",
       "      <td>1.6509</td>\n",
       "      <td>85700.0</td>\n",
       "    </tr>\n",
       "    <tr>\n",
       "      <th>3</th>\n",
       "      <td>-114.57</td>\n",
       "      <td>33.64</td>\n",
       "      <td>14.0</td>\n",
       "      <td>1501.0</td>\n",
       "      <td>337.0</td>\n",
       "      <td>515.0</td>\n",
       "      <td>226.0</td>\n",
       "      <td>3.1917</td>\n",
       "      <td>73400.0</td>\n",
       "    </tr>\n",
       "    <tr>\n",
       "      <th>4</th>\n",
       "      <td>-114.57</td>\n",
       "      <td>33.57</td>\n",
       "      <td>20.0</td>\n",
       "      <td>1454.0</td>\n",
       "      <td>326.0</td>\n",
       "      <td>624.0</td>\n",
       "      <td>262.0</td>\n",
       "      <td>1.9250</td>\n",
       "      <td>65500.0</td>\n",
       "    </tr>\n",
       "  </tbody>\n",
       "</table>\n",
       "</div>"
      ]
     },
     "execution_count": 74,
     "metadata": {},
     "output_type": "execute_result"
    }
   ],
   "execution_count": 74
  },
  {
   "metadata": {
    "ExecuteTime": {
     "end_time": "2025-08-02T20:45:32.200992Z",
     "start_time": "2025-08-02T20:45:31.834024Z"
    }
   },
   "cell_type": "code",
   "source": "df.info()",
   "id": "a0e2f20c37a06ec0",
   "outputs": [
    {
     "name": "stdout",
     "output_type": "stream",
     "text": [
      "<class 'pandas.core.frame.DataFrame'>\n",
      "RangeIndex: 17000 entries, 0 to 16999\n",
      "Data columns (total 9 columns):\n",
      " #   Column              Non-Null Count  Dtype  \n",
      "---  ------              --------------  -----  \n",
      " 0   longitude           17000 non-null  float64\n",
      " 1   latitude            17000 non-null  float64\n",
      " 2   housing_median_age  17000 non-null  float64\n",
      " 3   total_rooms         17000 non-null  float64\n",
      " 4   total_bedrooms      17000 non-null  float64\n",
      " 5   population          17000 non-null  float64\n",
      " 6   households          17000 non-null  float64\n",
      " 7   median_income       17000 non-null  float64\n",
      " 8   median_house_value  17000 non-null  float64\n",
      "dtypes: float64(9)\n",
      "memory usage: 1.2 MB\n"
     ]
    }
   ],
   "execution_count": 75
  },
  {
   "metadata": {
    "ExecuteTime": {
     "end_time": "2025-08-02T20:46:05.920608Z",
     "start_time": "2025-08-02T20:46:05.628619Z"
    }
   },
   "cell_type": "code",
   "source": "df.describe()",
   "id": "7b29894cdfd532f6",
   "outputs": [
    {
     "data": {
      "text/plain": [
       "          longitude      latitude  housing_median_age   total_rooms  \\\n",
       "count  17000.000000  17000.000000        17000.000000  17000.000000   \n",
       "mean    -119.562108     35.625225           28.589353   2643.664412   \n",
       "std        2.005166      2.137340           12.586937   2179.947071   \n",
       "min     -124.350000     32.540000            1.000000      2.000000   \n",
       "25%     -121.790000     33.930000           18.000000   1462.000000   \n",
       "50%     -118.490000     34.250000           29.000000   2127.000000   \n",
       "75%     -118.000000     37.720000           37.000000   3151.250000   \n",
       "max     -114.310000     41.950000           52.000000  37937.000000   \n",
       "\n",
       "       total_bedrooms    population    households  median_income  \\\n",
       "count    17000.000000  17000.000000  17000.000000   17000.000000   \n",
       "mean       539.410824   1429.573941    501.221941       3.883578   \n",
       "std        421.499452   1147.852959    384.520841       1.908157   \n",
       "min          1.000000      3.000000      1.000000       0.499900   \n",
       "25%        297.000000    790.000000    282.000000       2.566375   \n",
       "50%        434.000000   1167.000000    409.000000       3.544600   \n",
       "75%        648.250000   1721.000000    605.250000       4.767000   \n",
       "max       6445.000000  35682.000000   6082.000000      15.000100   \n",
       "\n",
       "       median_house_value  \n",
       "count        17000.000000  \n",
       "mean        207300.912353  \n",
       "std         115983.764387  \n",
       "min          14999.000000  \n",
       "25%         119400.000000  \n",
       "50%         180400.000000  \n",
       "75%         265000.000000  \n",
       "max         500001.000000  "
      ],
      "text/html": [
       "<div>\n",
       "<style scoped>\n",
       "    .dataframe tbody tr th:only-of-type {\n",
       "        vertical-align: middle;\n",
       "    }\n",
       "\n",
       "    .dataframe tbody tr th {\n",
       "        vertical-align: top;\n",
       "    }\n",
       "\n",
       "    .dataframe thead th {\n",
       "        text-align: right;\n",
       "    }\n",
       "</style>\n",
       "<table border=\"1\" class=\"dataframe\">\n",
       "  <thead>\n",
       "    <tr style=\"text-align: right;\">\n",
       "      <th></th>\n",
       "      <th>longitude</th>\n",
       "      <th>latitude</th>\n",
       "      <th>housing_median_age</th>\n",
       "      <th>total_rooms</th>\n",
       "      <th>total_bedrooms</th>\n",
       "      <th>population</th>\n",
       "      <th>households</th>\n",
       "      <th>median_income</th>\n",
       "      <th>median_house_value</th>\n",
       "    </tr>\n",
       "  </thead>\n",
       "  <tbody>\n",
       "    <tr>\n",
       "      <th>count</th>\n",
       "      <td>17000.000000</td>\n",
       "      <td>17000.000000</td>\n",
       "      <td>17000.000000</td>\n",
       "      <td>17000.000000</td>\n",
       "      <td>17000.000000</td>\n",
       "      <td>17000.000000</td>\n",
       "      <td>17000.000000</td>\n",
       "      <td>17000.000000</td>\n",
       "      <td>17000.000000</td>\n",
       "    </tr>\n",
       "    <tr>\n",
       "      <th>mean</th>\n",
       "      <td>-119.562108</td>\n",
       "      <td>35.625225</td>\n",
       "      <td>28.589353</td>\n",
       "      <td>2643.664412</td>\n",
       "      <td>539.410824</td>\n",
       "      <td>1429.573941</td>\n",
       "      <td>501.221941</td>\n",
       "      <td>3.883578</td>\n",
       "      <td>207300.912353</td>\n",
       "    </tr>\n",
       "    <tr>\n",
       "      <th>std</th>\n",
       "      <td>2.005166</td>\n",
       "      <td>2.137340</td>\n",
       "      <td>12.586937</td>\n",
       "      <td>2179.947071</td>\n",
       "      <td>421.499452</td>\n",
       "      <td>1147.852959</td>\n",
       "      <td>384.520841</td>\n",
       "      <td>1.908157</td>\n",
       "      <td>115983.764387</td>\n",
       "    </tr>\n",
       "    <tr>\n",
       "      <th>min</th>\n",
       "      <td>-124.350000</td>\n",
       "      <td>32.540000</td>\n",
       "      <td>1.000000</td>\n",
       "      <td>2.000000</td>\n",
       "      <td>1.000000</td>\n",
       "      <td>3.000000</td>\n",
       "      <td>1.000000</td>\n",
       "      <td>0.499900</td>\n",
       "      <td>14999.000000</td>\n",
       "    </tr>\n",
       "    <tr>\n",
       "      <th>25%</th>\n",
       "      <td>-121.790000</td>\n",
       "      <td>33.930000</td>\n",
       "      <td>18.000000</td>\n",
       "      <td>1462.000000</td>\n",
       "      <td>297.000000</td>\n",
       "      <td>790.000000</td>\n",
       "      <td>282.000000</td>\n",
       "      <td>2.566375</td>\n",
       "      <td>119400.000000</td>\n",
       "    </tr>\n",
       "    <tr>\n",
       "      <th>50%</th>\n",
       "      <td>-118.490000</td>\n",
       "      <td>34.250000</td>\n",
       "      <td>29.000000</td>\n",
       "      <td>2127.000000</td>\n",
       "      <td>434.000000</td>\n",
       "      <td>1167.000000</td>\n",
       "      <td>409.000000</td>\n",
       "      <td>3.544600</td>\n",
       "      <td>180400.000000</td>\n",
       "    </tr>\n",
       "    <tr>\n",
       "      <th>75%</th>\n",
       "      <td>-118.000000</td>\n",
       "      <td>37.720000</td>\n",
       "      <td>37.000000</td>\n",
       "      <td>3151.250000</td>\n",
       "      <td>648.250000</td>\n",
       "      <td>1721.000000</td>\n",
       "      <td>605.250000</td>\n",
       "      <td>4.767000</td>\n",
       "      <td>265000.000000</td>\n",
       "    </tr>\n",
       "    <tr>\n",
       "      <th>max</th>\n",
       "      <td>-114.310000</td>\n",
       "      <td>41.950000</td>\n",
       "      <td>52.000000</td>\n",
       "      <td>37937.000000</td>\n",
       "      <td>6445.000000</td>\n",
       "      <td>35682.000000</td>\n",
       "      <td>6082.000000</td>\n",
       "      <td>15.000100</td>\n",
       "      <td>500001.000000</td>\n",
       "    </tr>\n",
       "  </tbody>\n",
       "</table>\n",
       "</div>"
      ]
     },
     "execution_count": 76,
     "metadata": {},
     "output_type": "execute_result"
    }
   ],
   "execution_count": 76
  },
  {
   "metadata": {
    "ExecuteTime": {
     "end_time": "2025-08-02T20:47:51.131203Z",
     "start_time": "2025-08-02T20:47:33.889841Z"
    }
   },
   "cell_type": "code",
   "source": "df.groupby('longitude').describe()",
   "id": "c0f6bec33d4503e8",
   "outputs": [
    {
     "data": {
      "text/plain": [
       "          latitude                                                            \\\n",
       "             count    mean       std    min      25%     50%      75%    max   \n",
       "longitude                                                                      \n",
       "-124.35        1.0  40.540       NaN  40.54  40.5400  40.540  40.5400  40.54   \n",
       "-124.30        2.0  41.820  0.028284  41.80  41.8100  41.820  41.8300  41.84   \n",
       "-124.27        1.0  40.690       NaN  40.69  40.6900  40.690  40.6900  40.69   \n",
       "-124.26        1.0  40.580       NaN  40.58  40.5800  40.580  40.5800  40.58   \n",
       "-124.25        1.0  40.280       NaN  40.28  40.2800  40.280  40.2800  40.28   \n",
       "...            ...     ...       ...    ...      ...     ...      ...    ...   \n",
       "-114.58        2.0  33.620  0.014142  33.61  33.6150  33.620  33.6250  33.63   \n",
       "-114.57        2.0  33.605  0.049497  33.57  33.5875  33.605  33.6225  33.64   \n",
       "-114.56        1.0  33.690       NaN  33.69  33.6900  33.690  33.6900  33.69   \n",
       "-114.47        1.0  34.400       NaN  34.40  34.4000  34.400  34.4000  34.40   \n",
       "-114.31        1.0  34.190       NaN  34.19  34.1900  34.190  34.1900  34.19   \n",
       "\n",
       "          housing_median_age        ... median_income          \\\n",
       "                       count  mean  ...           75%     max   \n",
       "longitude                           ...                         \n",
       "-124.35                  1.0  52.0  ...      3.014700  3.0147   \n",
       "-124.30                  2.0  18.0  ...      2.768400  3.0313   \n",
       "-124.27                  1.0  36.0  ...      2.517900  2.5179   \n",
       "-124.26                  1.0  52.0  ...      2.357100  2.3571   \n",
       "-124.25                  1.0  32.0  ...      1.941700  1.9417   \n",
       "...                      ...   ...  ...           ...     ...   \n",
       "-114.58                  2.0  27.0  ...      3.177050  3.3438   \n",
       "-114.57                  2.0  17.0  ...      2.875025  3.1917   \n",
       "-114.56                  1.0  17.0  ...      1.650900  1.6509   \n",
       "-114.47                  1.0  19.0  ...      1.820000  1.8200   \n",
       "-114.31                  1.0  15.0  ...      1.493600  1.4936   \n",
       "\n",
       "          median_house_value                                              \\\n",
       "                       count      mean           std       min       25%   \n",
       "longitude                                                                  \n",
       "-124.35                  1.0   94600.0           NaN   94600.0   94600.0   \n",
       "-124.30                  2.0   94700.0  12586.500705   85800.0   90250.0   \n",
       "-124.27                  1.0   79000.0           NaN   79000.0   79000.0   \n",
       "-124.26                  1.0  111400.0           NaN  111400.0  111400.0   \n",
       "-124.25                  1.0   76100.0           NaN   76100.0   76100.0   \n",
       "...                      ...       ...           ...       ...       ...   \n",
       "-114.58                  2.0   78200.0   5939.696962   74000.0   76100.0   \n",
       "-114.57                  2.0   69450.0   5586.143571   65500.0   67475.0   \n",
       "-114.56                  1.0   85700.0           NaN   85700.0   85700.0   \n",
       "-114.47                  1.0   80100.0           NaN   80100.0   80100.0   \n",
       "-114.31                  1.0   66900.0           NaN   66900.0   66900.0   \n",
       "\n",
       "                                         \n",
       "                50%       75%       max  \n",
       "longitude                                \n",
       "-124.35     94600.0   94600.0   94600.0  \n",
       "-124.30     94700.0   99150.0  103600.0  \n",
       "-124.27     79000.0   79000.0   79000.0  \n",
       "-124.26    111400.0  111400.0  111400.0  \n",
       "-124.25     76100.0   76100.0   76100.0  \n",
       "...             ...       ...       ...  \n",
       "-114.58     78200.0   80300.0   82400.0  \n",
       "-114.57     69450.0   71425.0   73400.0  \n",
       "-114.56     85700.0   85700.0   85700.0  \n",
       "-114.47     80100.0   80100.0   80100.0  \n",
       "-114.31     66900.0   66900.0   66900.0  \n",
       "\n",
       "[827 rows x 64 columns]"
      ],
      "text/html": [
       "<div>\n",
       "<style scoped>\n",
       "    .dataframe tbody tr th:only-of-type {\n",
       "        vertical-align: middle;\n",
       "    }\n",
       "\n",
       "    .dataframe tbody tr th {\n",
       "        vertical-align: top;\n",
       "    }\n",
       "\n",
       "    .dataframe thead tr th {\n",
       "        text-align: left;\n",
       "    }\n",
       "\n",
       "    .dataframe thead tr:last-of-type th {\n",
       "        text-align: right;\n",
       "    }\n",
       "</style>\n",
       "<table border=\"1\" class=\"dataframe\">\n",
       "  <thead>\n",
       "    <tr>\n",
       "      <th></th>\n",
       "      <th colspan=\"8\" halign=\"left\">latitude</th>\n",
       "      <th colspan=\"2\" halign=\"left\">housing_median_age</th>\n",
       "      <th>...</th>\n",
       "      <th colspan=\"2\" halign=\"left\">median_income</th>\n",
       "      <th colspan=\"8\" halign=\"left\">median_house_value</th>\n",
       "    </tr>\n",
       "    <tr>\n",
       "      <th></th>\n",
       "      <th>count</th>\n",
       "      <th>mean</th>\n",
       "      <th>std</th>\n",
       "      <th>min</th>\n",
       "      <th>25%</th>\n",
       "      <th>50%</th>\n",
       "      <th>75%</th>\n",
       "      <th>max</th>\n",
       "      <th>count</th>\n",
       "      <th>mean</th>\n",
       "      <th>...</th>\n",
       "      <th>75%</th>\n",
       "      <th>max</th>\n",
       "      <th>count</th>\n",
       "      <th>mean</th>\n",
       "      <th>std</th>\n",
       "      <th>min</th>\n",
       "      <th>25%</th>\n",
       "      <th>50%</th>\n",
       "      <th>75%</th>\n",
       "      <th>max</th>\n",
       "    </tr>\n",
       "    <tr>\n",
       "      <th>longitude</th>\n",
       "      <th></th>\n",
       "      <th></th>\n",
       "      <th></th>\n",
       "      <th></th>\n",
       "      <th></th>\n",
       "      <th></th>\n",
       "      <th></th>\n",
       "      <th></th>\n",
       "      <th></th>\n",
       "      <th></th>\n",
       "      <th></th>\n",
       "      <th></th>\n",
       "      <th></th>\n",
       "      <th></th>\n",
       "      <th></th>\n",
       "      <th></th>\n",
       "      <th></th>\n",
       "      <th></th>\n",
       "      <th></th>\n",
       "      <th></th>\n",
       "      <th></th>\n",
       "    </tr>\n",
       "  </thead>\n",
       "  <tbody>\n",
       "    <tr>\n",
       "      <th>-124.35</th>\n",
       "      <td>1.0</td>\n",
       "      <td>40.540</td>\n",
       "      <td>NaN</td>\n",
       "      <td>40.54</td>\n",
       "      <td>40.5400</td>\n",
       "      <td>40.540</td>\n",
       "      <td>40.5400</td>\n",
       "      <td>40.54</td>\n",
       "      <td>1.0</td>\n",
       "      <td>52.0</td>\n",
       "      <td>...</td>\n",
       "      <td>3.014700</td>\n",
       "      <td>3.0147</td>\n",
       "      <td>1.0</td>\n",
       "      <td>94600.0</td>\n",
       "      <td>NaN</td>\n",
       "      <td>94600.0</td>\n",
       "      <td>94600.0</td>\n",
       "      <td>94600.0</td>\n",
       "      <td>94600.0</td>\n",
       "      <td>94600.0</td>\n",
       "    </tr>\n",
       "    <tr>\n",
       "      <th>-124.30</th>\n",
       "      <td>2.0</td>\n",
       "      <td>41.820</td>\n",
       "      <td>0.028284</td>\n",
       "      <td>41.80</td>\n",
       "      <td>41.8100</td>\n",
       "      <td>41.820</td>\n",
       "      <td>41.8300</td>\n",
       "      <td>41.84</td>\n",
       "      <td>2.0</td>\n",
       "      <td>18.0</td>\n",
       "      <td>...</td>\n",
       "      <td>2.768400</td>\n",
       "      <td>3.0313</td>\n",
       "      <td>2.0</td>\n",
       "      <td>94700.0</td>\n",
       "      <td>12586.500705</td>\n",
       "      <td>85800.0</td>\n",
       "      <td>90250.0</td>\n",
       "      <td>94700.0</td>\n",
       "      <td>99150.0</td>\n",
       "      <td>103600.0</td>\n",
       "    </tr>\n",
       "    <tr>\n",
       "      <th>-124.27</th>\n",
       "      <td>1.0</td>\n",
       "      <td>40.690</td>\n",
       "      <td>NaN</td>\n",
       "      <td>40.69</td>\n",
       "      <td>40.6900</td>\n",
       "      <td>40.690</td>\n",
       "      <td>40.6900</td>\n",
       "      <td>40.69</td>\n",
       "      <td>1.0</td>\n",
       "      <td>36.0</td>\n",
       "      <td>...</td>\n",
       "      <td>2.517900</td>\n",
       "      <td>2.5179</td>\n",
       "      <td>1.0</td>\n",
       "      <td>79000.0</td>\n",
       "      <td>NaN</td>\n",
       "      <td>79000.0</td>\n",
       "      <td>79000.0</td>\n",
       "      <td>79000.0</td>\n",
       "      <td>79000.0</td>\n",
       "      <td>79000.0</td>\n",
       "    </tr>\n",
       "    <tr>\n",
       "      <th>-124.26</th>\n",
       "      <td>1.0</td>\n",
       "      <td>40.580</td>\n",
       "      <td>NaN</td>\n",
       "      <td>40.58</td>\n",
       "      <td>40.5800</td>\n",
       "      <td>40.580</td>\n",
       "      <td>40.5800</td>\n",
       "      <td>40.58</td>\n",
       "      <td>1.0</td>\n",
       "      <td>52.0</td>\n",
       "      <td>...</td>\n",
       "      <td>2.357100</td>\n",
       "      <td>2.3571</td>\n",
       "      <td>1.0</td>\n",
       "      <td>111400.0</td>\n",
       "      <td>NaN</td>\n",
       "      <td>111400.0</td>\n",
       "      <td>111400.0</td>\n",
       "      <td>111400.0</td>\n",
       "      <td>111400.0</td>\n",
       "      <td>111400.0</td>\n",
       "    </tr>\n",
       "    <tr>\n",
       "      <th>-124.25</th>\n",
       "      <td>1.0</td>\n",
       "      <td>40.280</td>\n",
       "      <td>NaN</td>\n",
       "      <td>40.28</td>\n",
       "      <td>40.2800</td>\n",
       "      <td>40.280</td>\n",
       "      <td>40.2800</td>\n",
       "      <td>40.28</td>\n",
       "      <td>1.0</td>\n",
       "      <td>32.0</td>\n",
       "      <td>...</td>\n",
       "      <td>1.941700</td>\n",
       "      <td>1.9417</td>\n",
       "      <td>1.0</td>\n",
       "      <td>76100.0</td>\n",
       "      <td>NaN</td>\n",
       "      <td>76100.0</td>\n",
       "      <td>76100.0</td>\n",
       "      <td>76100.0</td>\n",
       "      <td>76100.0</td>\n",
       "      <td>76100.0</td>\n",
       "    </tr>\n",
       "    <tr>\n",
       "      <th>...</th>\n",
       "      <td>...</td>\n",
       "      <td>...</td>\n",
       "      <td>...</td>\n",
       "      <td>...</td>\n",
       "      <td>...</td>\n",
       "      <td>...</td>\n",
       "      <td>...</td>\n",
       "      <td>...</td>\n",
       "      <td>...</td>\n",
       "      <td>...</td>\n",
       "      <td>...</td>\n",
       "      <td>...</td>\n",
       "      <td>...</td>\n",
       "      <td>...</td>\n",
       "      <td>...</td>\n",
       "      <td>...</td>\n",
       "      <td>...</td>\n",
       "      <td>...</td>\n",
       "      <td>...</td>\n",
       "      <td>...</td>\n",
       "      <td>...</td>\n",
       "    </tr>\n",
       "    <tr>\n",
       "      <th>-114.58</th>\n",
       "      <td>2.0</td>\n",
       "      <td>33.620</td>\n",
       "      <td>0.014142</td>\n",
       "      <td>33.61</td>\n",
       "      <td>33.6150</td>\n",
       "      <td>33.620</td>\n",
       "      <td>33.6250</td>\n",
       "      <td>33.63</td>\n",
       "      <td>2.0</td>\n",
       "      <td>27.0</td>\n",
       "      <td>...</td>\n",
       "      <td>3.177050</td>\n",
       "      <td>3.3438</td>\n",
       "      <td>2.0</td>\n",
       "      <td>78200.0</td>\n",
       "      <td>5939.696962</td>\n",
       "      <td>74000.0</td>\n",
       "      <td>76100.0</td>\n",
       "      <td>78200.0</td>\n",
       "      <td>80300.0</td>\n",
       "      <td>82400.0</td>\n",
       "    </tr>\n",
       "    <tr>\n",
       "      <th>-114.57</th>\n",
       "      <td>2.0</td>\n",
       "      <td>33.605</td>\n",
       "      <td>0.049497</td>\n",
       "      <td>33.57</td>\n",
       "      <td>33.5875</td>\n",
       "      <td>33.605</td>\n",
       "      <td>33.6225</td>\n",
       "      <td>33.64</td>\n",
       "      <td>2.0</td>\n",
       "      <td>17.0</td>\n",
       "      <td>...</td>\n",
       "      <td>2.875025</td>\n",
       "      <td>3.1917</td>\n",
       "      <td>2.0</td>\n",
       "      <td>69450.0</td>\n",
       "      <td>5586.143571</td>\n",
       "      <td>65500.0</td>\n",
       "      <td>67475.0</td>\n",
       "      <td>69450.0</td>\n",
       "      <td>71425.0</td>\n",
       "      <td>73400.0</td>\n",
       "    </tr>\n",
       "    <tr>\n",
       "      <th>-114.56</th>\n",
       "      <td>1.0</td>\n",
       "      <td>33.690</td>\n",
       "      <td>NaN</td>\n",
       "      <td>33.69</td>\n",
       "      <td>33.6900</td>\n",
       "      <td>33.690</td>\n",
       "      <td>33.6900</td>\n",
       "      <td>33.69</td>\n",
       "      <td>1.0</td>\n",
       "      <td>17.0</td>\n",
       "      <td>...</td>\n",
       "      <td>1.650900</td>\n",
       "      <td>1.6509</td>\n",
       "      <td>1.0</td>\n",
       "      <td>85700.0</td>\n",
       "      <td>NaN</td>\n",
       "      <td>85700.0</td>\n",
       "      <td>85700.0</td>\n",
       "      <td>85700.0</td>\n",
       "      <td>85700.0</td>\n",
       "      <td>85700.0</td>\n",
       "    </tr>\n",
       "    <tr>\n",
       "      <th>-114.47</th>\n",
       "      <td>1.0</td>\n",
       "      <td>34.400</td>\n",
       "      <td>NaN</td>\n",
       "      <td>34.40</td>\n",
       "      <td>34.4000</td>\n",
       "      <td>34.400</td>\n",
       "      <td>34.4000</td>\n",
       "      <td>34.40</td>\n",
       "      <td>1.0</td>\n",
       "      <td>19.0</td>\n",
       "      <td>...</td>\n",
       "      <td>1.820000</td>\n",
       "      <td>1.8200</td>\n",
       "      <td>1.0</td>\n",
       "      <td>80100.0</td>\n",
       "      <td>NaN</td>\n",
       "      <td>80100.0</td>\n",
       "      <td>80100.0</td>\n",
       "      <td>80100.0</td>\n",
       "      <td>80100.0</td>\n",
       "      <td>80100.0</td>\n",
       "    </tr>\n",
       "    <tr>\n",
       "      <th>-114.31</th>\n",
       "      <td>1.0</td>\n",
       "      <td>34.190</td>\n",
       "      <td>NaN</td>\n",
       "      <td>34.19</td>\n",
       "      <td>34.1900</td>\n",
       "      <td>34.190</td>\n",
       "      <td>34.1900</td>\n",
       "      <td>34.19</td>\n",
       "      <td>1.0</td>\n",
       "      <td>15.0</td>\n",
       "      <td>...</td>\n",
       "      <td>1.493600</td>\n",
       "      <td>1.4936</td>\n",
       "      <td>1.0</td>\n",
       "      <td>66900.0</td>\n",
       "      <td>NaN</td>\n",
       "      <td>66900.0</td>\n",
       "      <td>66900.0</td>\n",
       "      <td>66900.0</td>\n",
       "      <td>66900.0</td>\n",
       "      <td>66900.0</td>\n",
       "    </tr>\n",
       "  </tbody>\n",
       "</table>\n",
       "<p>827 rows × 64 columns</p>\n",
       "</div>"
      ]
     },
     "execution_count": 80,
     "metadata": {},
     "output_type": "execute_result"
    }
   ],
   "execution_count": 80
  },
  {
   "metadata": {
    "ExecuteTime": {
     "end_time": "2025-08-02T20:50:31.029681Z",
     "start_time": "2025-08-02T20:50:30.996524Z"
    }
   },
   "cell_type": "code",
   "source": [
    "df.housing_median_age.max()\n",
    "df.housing_median_age.min()"
   ],
   "id": "4c191d0ed6915074",
   "outputs": [
    {
     "data": {
      "text/plain": [
       "np.float64(1.0)"
      ]
     },
     "execution_count": 83,
     "metadata": {},
     "output_type": "execute_result"
    }
   ],
   "execution_count": 83
  },
  {
   "metadata": {
    "ExecuteTime": {
     "end_time": "2025-08-02T20:57:28.818748Z",
     "start_time": "2025-08-02T20:54:22.529284Z"
    }
   },
   "cell_type": "code",
   "source": "pip install scikit-learn",
   "id": "e96f6e16a779a0cc",
   "outputs": [
    {
     "name": "stdout",
     "output_type": "stream",
     "text": [
      "Collecting scikit-learn\r\n",
      "  Downloading scikit_learn-1.7.1-cp313-cp313-macosx_10_13_x86_64.whl.metadata (11 kB)\r\n",
      "Requirement already satisfied: numpy>=1.22.0 in ./.venv/lib/python3.13/site-packages (from scikit-learn) (2.3.1)\r\n",
      "Collecting scipy>=1.8.0 (from scikit-learn)\r\n",
      "  Downloading scipy-1.16.1-cp313-cp313-macosx_10_14_x86_64.whl.metadata (61 kB)\r\n",
      "Collecting joblib>=1.2.0 (from scikit-learn)\r\n",
      "  Downloading joblib-1.5.1-py3-none-any.whl.metadata (5.6 kB)\r\n",
      "Collecting threadpoolctl>=3.1.0 (from scikit-learn)\r\n",
      "  Downloading threadpoolctl-3.6.0-py3-none-any.whl.metadata (13 kB)\r\n",
      "Downloading scikit_learn-1.7.1-cp313-cp313-macosx_10_13_x86_64.whl (9.2 MB)\r\n",
      "\u001B[2K   \u001B[90m━━━━━━━━━━━━━━━━━━━━━━━━━━━━━━━━━━━━━━━━\u001B[0m \u001B[32m9.2/9.2 MB\u001B[0m \u001B[31m241.1 kB/s\u001B[0m eta \u001B[36m0:00:00\u001B[0m00:01\u001B[0m00:02\u001B[0m\r\n",
      "\u001B[?25hDownloading joblib-1.5.1-py3-none-any.whl (307 kB)\r\n",
      "Downloading scipy-1.16.1-cp313-cp313-macosx_10_14_x86_64.whl (36.5 MB)\r\n",
      "\u001B[2K   \u001B[90m━━━━━━━━━━━━━━━━━━━━━━━━━━━━━━━━━━━━━━━━\u001B[0m \u001B[32m36.5/36.5 MB\u001B[0m \u001B[31m495.2 kB/s\u001B[0m eta \u001B[36m0:00:00\u001B[0m00:01\u001B[0m00:03\u001B[0m\r\n",
      "\u001B[?25hDownloading threadpoolctl-3.6.0-py3-none-any.whl (18 kB)\r\n",
      "Installing collected packages: threadpoolctl, scipy, joblib, scikit-learn\r\n",
      "\u001B[2K   \u001B[90m━━━━━━━━━━━━━━━━━━━━━━━━━━━━━━━━━━━━━━━━\u001B[0m \u001B[32m4/4\u001B[0m [scikit-learn][0m [scikit-learn]\r\n",
      "\u001B[1A\u001B[2KSuccessfully installed joblib-1.5.1 scikit-learn-1.7.1 scipy-1.16.1 threadpoolctl-3.6.0\r\n",
      "\r\n",
      "\u001B[1m[\u001B[0m\u001B[34;49mnotice\u001B[0m\u001B[1;39;49m]\u001B[0m\u001B[39;49m A new release of pip is available: \u001B[0m\u001B[31;49m25.1.1\u001B[0m\u001B[39;49m -> \u001B[0m\u001B[32;49m25.2\u001B[0m\r\n",
      "\u001B[1m[\u001B[0m\u001B[34;49mnotice\u001B[0m\u001B[1;39;49m]\u001B[0m\u001B[39;49m To update, run: \u001B[0m\u001B[32;49mpip install --upgrade pip\u001B[0m\r\n",
      "Note: you may need to restart the kernel to use updated packages.\n"
     ]
    }
   ],
   "execution_count": 84
  },
  {
   "metadata": {
    "ExecuteTime": {
     "end_time": "2025-08-02T21:21:42.433514Z",
     "start_time": "2025-08-02T21:21:42.290762Z"
    }
   },
   "cell_type": "code",
   "source": "df.info()",
   "id": "8859ed2cd68fce23",
   "outputs": [
    {
     "name": "stdout",
     "output_type": "stream",
     "text": [
      "<class 'pandas.core.frame.DataFrame'>\n",
      "RangeIndex: 17000 entries, 0 to 16999\n",
      "Data columns (total 9 columns):\n",
      " #   Column              Non-Null Count  Dtype  \n",
      "---  ------              --------------  -----  \n",
      " 0   longitude           17000 non-null  float64\n",
      " 1   latitude            17000 non-null  float64\n",
      " 2   housing_median_age  17000 non-null  float64\n",
      " 3   total_rooms         17000 non-null  float64\n",
      " 4   total_bedrooms      17000 non-null  float64\n",
      " 5   population          17000 non-null  float64\n",
      " 6   households          17000 non-null  float64\n",
      " 7   median_income       17000 non-null  float64\n",
      " 8   median_house_value  17000 non-null  float64\n",
      "dtypes: float64(9)\n",
      "memory usage: 1.2 MB\n"
     ]
    }
   ],
   "execution_count": 86
  },
  {
   "metadata": {
    "ExecuteTime": {
     "end_time": "2025-08-02T21:31:54.174571Z",
     "start_time": "2025-08-02T21:31:53.888580Z"
    }
   },
   "cell_type": "code",
   "source": [
    "from  sklearn.model_selection import train_test_split\n",
    "from  sklearn.linear_model import  LinearRegression\n",
    "from  sklearn.matrics import  mean_squared_error\n",
    "\n"
   ],
   "id": "60d248767c17a671",
   "outputs": [
    {
     "ename": "ModuleNotFoundError",
     "evalue": "No module named 'sklearn.matrics'",
     "output_type": "error",
     "traceback": [
      "\u001B[31m---------------------------------------------------------------------------\u001B[39m",
      "\u001B[31mModuleNotFoundError\u001B[39m                       Traceback (most recent call last)",
      "\u001B[36mCell\u001B[39m\u001B[36m \u001B[39m\u001B[32mIn[88]\u001B[39m\u001B[32m, line 3\u001B[39m\n\u001B[32m      1\u001B[39m \u001B[38;5;28;01mfrom\u001B[39;00m\u001B[38;5;250m  \u001B[39m\u001B[34;01msklearn\u001B[39;00m\u001B[34;01m.\u001B[39;00m\u001B[34;01mmodel_selection\u001B[39;00m\u001B[38;5;250m \u001B[39m\u001B[38;5;28;01mimport\u001B[39;00m train_test_split\n\u001B[32m      2\u001B[39m \u001B[38;5;28;01mfrom\u001B[39;00m\u001B[38;5;250m  \u001B[39m\u001B[34;01msklearn\u001B[39;00m\u001B[34;01m.\u001B[39;00m\u001B[34;01mlinear_model\u001B[39;00m\u001B[38;5;250m \u001B[39m\u001B[38;5;28;01mimport\u001B[39;00m  LinearRegression\n\u001B[32m----> \u001B[39m\u001B[32m3\u001B[39m \u001B[38;5;28;01mfrom\u001B[39;00m\u001B[38;5;250m  \u001B[39m\u001B[34;01msklearn\u001B[39;00m\u001B[34;01m.\u001B[39;00m\u001B[34;01mmatrics\u001B[39;00m\u001B[38;5;250m \u001B[39m\u001B[38;5;28;01mimport\u001B[39;00m  mean_squared_error \n",
      "\u001B[31mModuleNotFoundError\u001B[39m: No module named 'sklearn.matrics'"
     ]
    }
   ],
   "execution_count": 88
  },
  {
   "metadata": {},
   "cell_type": "code",
   "outputs": [],
   "execution_count": null,
   "source": "",
   "id": "a02b62a783e51c71"
  }
 ],
 "metadata": {
  "kernelspec": {
   "display_name": "Python 3",
   "language": "python",
   "name": "python3"
  },
  "language_info": {
   "codemirror_mode": {
    "name": "ipython",
    "version": 2
   },
   "file_extension": ".py",
   "mimetype": "text/x-python",
   "name": "python",
   "nbconvert_exporter": "python",
   "pygments_lexer": "ipython2",
   "version": "2.7.6"
  }
 },
 "nbformat": 4,
 "nbformat_minor": 5
}
